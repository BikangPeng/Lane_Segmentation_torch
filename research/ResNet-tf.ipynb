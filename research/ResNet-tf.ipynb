{
 "cells": [
  {
   "cell_type": "code",
   "execution_count": 8,
   "metadata": {
    "ExecuteTime": {
     "end_time": "2020-04-06T10:17:45.419440Z",
     "start_time": "2020-04-06T10:17:45.413613Z"
    }
   },
   "outputs": [],
   "source": [
    "import tensorflow as tf"
   ]
  },
  {
   "cell_type": "markdown",
   "metadata": {},
   "source": [
    "# 定义BasicBlock类"
   ]
  },
  {
   "cell_type": "code",
   "execution_count": 11,
   "metadata": {
    "ExecuteTime": {
     "end_time": "2020-04-06T10:29:41.237756Z",
     "start_time": "2020-04-06T10:29:41.215701Z"
    }
   },
   "outputs": [],
   "source": [
    "class BasicBlock(tf.keras.layers.Layer):\n",
    "    def __init__(self, filter_num, stride=1):\n",
    "        super(BasicBlock, self).__init__()\n",
    "        self.conv1 = tf.keras.layers.Conv2D(filters=filter_num,\n",
    "                                            kernel_size=(3, 3),\n",
    "                                            strides=stride,\n",
    "                                            padding='same')\n",
    "        self.bn1 = tf.keras.layers.BatchNormalization()\n",
    "        self.conv2 = tf.keras.layers.Conv2D(filters=filter_num,\n",
    "                                            kernel_size=(3, 3),\n",
    "                                            strides=1,\n",
    "                                            padding='same')\n",
    "        self.bn2 = tf.keras.layers.BatchNormalization()\n",
    "        if stride != 1:\n",
    "            self.downsample = tf.keras.Sequential()\n",
    "            self.downsample.add(\n",
    "                tf.keras.layers.Conv2D(filters=filter_num,\n",
    "                                       kernel_size=(1, 1),\n",
    "                                       strides=stride))\n",
    "            self.downsample.add(tf.keras.layersyers.BatchNormalization())\n",
    "        else:\n",
    "            self.downsample = lambda x: x\n",
    "\n",
    "    def call(self, inputs, training=None, **kwargs):\n",
    "        residual = self.downsample(inputs)\n",
    "\n",
    "        x = self.conv1(inputs)\n",
    "        x = self.bn1(x, training=training)\n",
    "        x = tf.nn.relu(x)\n",
    "        x = self.conv2(x)\n",
    "        x = self.bn2(x, training=training)\n",
    "\n",
    "        out = tf.nn.relu(tf.keras.layers.add([residual, x]))\n",
    "        return out"
   ]
  },
  {
   "cell_type": "markdown",
   "metadata": {},
   "source": [
    "# 建立BottleNeck类"
   ]
  },
  {
   "cell_type": "code",
   "execution_count": 36,
   "metadata": {
    "ExecuteTime": {
     "end_time": "2020-04-07T02:50:36.506985Z",
     "start_time": "2020-04-07T02:50:36.477729Z"
    }
   },
   "outputs": [],
   "source": [
    "class BottleNeck(tf.keras.layers.Layer):\n",
    "    def __init__(self, filter_num, stride=1):\n",
    "        super(BottleNeck, self).__init__()\n",
    "        self.conv1 = tf.keras.layers.Conv2D(filters=filter_num,\n",
    "                                            kernel_size=(1, 1),\n",
    "                                            strides=1,\n",
    "                                            padding='same')\n",
    "        self.bn1 = tf.keras.layers.BatchNormalization()\n",
    "        self.conv2 = tf.keras.layers.Conv2D(filters=filter_num,\n",
    "                                            kernel_size=(3, 3),\n",
    "                                            strides=stride,\n",
    "                                            padding='same')\n",
    "        self.bn2 = tf.keras.layers.BatchNormalization()\n",
    "        self.conv3 = tf.keras.layers.Conv2D(filters=filter_num * 4,\n",
    "                                            kernel_size=(1, 1),\n",
    "                                            strides=1,\n",
    "                                            padding='same')\n",
    "        self.bn3 = tf.keras.layers.BatchNormalization()\n",
    "\n",
    "        self.downsample = tf.keras.Sequential()\n",
    "        self.downsample.add(\n",
    "            tf.keras.layers.Conv2D(filters=filter_num * 4,\n",
    "                                   kernel_size=(1, 1),\n",
    "                                   strides=stride))\n",
    "        self.downsample.add(tf.keras.layers.BatchNormalization())\n",
    "\n",
    "    def call(self, inputs, training=None, **kwargs):\n",
    "        residual = self.downsample(inputs)\n",
    "\n",
    "        x = self.conv1(inputs)\n",
    "        x = self.bn1(x, training=training)\n",
    "        x = tf.nn.relu(x)\n",
    "\n",
    "        x = self.conv2(x)\n",
    "        x = self.bn2(x, training=training)\n",
    "        x = tf.nn.relu(x)\n",
    "\n",
    "        x = self.conv3(x)\n",
    "        x = self.bn3(x, training=training)\n",
    "\n",
    "        out = tf.nn.relu(tf.keras.layers.add([residual, x]))\n",
    "\n",
    "        return out"
   ]
  },
  {
   "cell_type": "code",
   "execution_count": 37,
   "metadata": {
    "ExecuteTime": {
     "end_time": "2020-04-07T02:50:36.921070Z",
     "start_time": "2020-04-07T02:50:36.910331Z"
    }
   },
   "outputs": [],
   "source": [
    "def make_basic_block_layer(filter_num, blocks, stride=1):\n",
    "    res_block = tf.keras.Sequential()\n",
    "    res_block.add(BasicBlock(filter_num, stride))\n",
    "    for _ in range(1, blocks):\n",
    "        res_block.add(BasicBlock(filter_num, stride=1))\n",
    "\n",
    "    return res_block"
   ]
  },
  {
   "cell_type": "code",
   "execution_count": 38,
   "metadata": {
    "ExecuteTime": {
     "end_time": "2020-04-07T02:50:37.288494Z",
     "start_time": "2020-04-07T02:50:37.281991Z"
    }
   },
   "outputs": [],
   "source": [
    "def make_bottleneck_layer(filter_num, blocks, stride=1):\n",
    "    res_block = tf.keras.Sequential()\n",
    "    res_block.add(BottleNeck(filter_num, stride=stride))\n",
    "\n",
    "    for _ in range(1, blocks):\n",
    "        res_block.add(BottleNeck(filter_num, stride=1))\n",
    "\n",
    "    return res_block"
   ]
  },
  {
   "cell_type": "markdown",
   "metadata": {},
   "source": [
    "# ResNet 50层以下"
   ]
  },
  {
   "cell_type": "code",
   "execution_count": 39,
   "metadata": {
    "ExecuteTime": {
     "end_time": "2020-04-07T02:50:38.044881Z",
     "start_time": "2020-04-07T02:50:38.019124Z"
    }
   },
   "outputs": [],
   "source": [
    "class ResNetTypeI(tf.keras.Model):\n",
    "    def __init__(self, layer_params, num_classes=1000):\n",
    "        super(ResNetTypeI, self).__init__()\n",
    "\n",
    "        self.conv1 = tf.keras.layers.Conv2D(filters=64,\n",
    "                                            kernel_size=(7, 7),\n",
    "                                            strides=2,\n",
    "                                            padding='same')\n",
    "        self.bn1 = tf.keras.layers.BatchNormalization()\n",
    "        self.pool1 = tf.keras.layers.MaxPool2D(pool_size=(3, 3),\n",
    "                                               strides=2,\n",
    "                                               padding='same')\n",
    "        self.layer1 = make_basic_block_layer(filter_num=64,\n",
    "                                             blocks=layer_params[0])\n",
    "        self.layer2 = make_basic_block_layer(filter_num=128,\n",
    "                                             blocks=layer_params[1],\n",
    "                                             stride=2)\n",
    "        self.layer3 = make_basic_block_layer(filter_num=256,\n",
    "                                             blocks=layer_params[2],\n",
    "                                             stride=2)\n",
    "        self.layer4 = make_basic_block_layer(filter_num=512,\n",
    "                                             blocks=layer_params[3],\n",
    "                                             stride=2)\n",
    "        self.avgpool = tf.keras.layers.GlobalAveragePooling2D()\n",
    "        self.fc = tf.keras.layers.Dense(\n",
    "            units=num_classes, activation=tf.keras.activations.softmax)\n",
    "\n",
    "    def call(self, inputs, training=None, mask=None):\n",
    "        x = self.conv1(inputs)\n",
    "        x = self.bn1(x, training=training)\n",
    "        x = tf.nn.relu(x)\n",
    "        x = self.pool1(x)\n",
    "        x = self.layer1(x, training=training)\n",
    "        x = self.layer2(x, training=training)\n",
    "        x = self.layer3(x, training=training)\n",
    "        x = self.layer4(x, training=training)\n",
    "        x = self.avgpool(x)\n",
    "        output = self.fc(x)\n",
    "\n",
    "        return output"
   ]
  },
  {
   "cell_type": "markdown",
   "metadata": {},
   "source": [
    "# ResNet 50层以上"
   ]
  },
  {
   "cell_type": "code",
   "execution_count": 40,
   "metadata": {
    "ExecuteTime": {
     "end_time": "2020-04-07T02:50:38.774532Z",
     "start_time": "2020-04-07T02:50:38.746573Z"
    }
   },
   "outputs": [],
   "source": [
    "class ResNetTypeII(tf.keras.Model):\n",
    "    def __init__(self, layer_params, num_classes=1000):\n",
    "        super(ResNetTypeII, self).__init__()\n",
    "\n",
    "        self.conv1 = tf.keras.layers.Conv2D(filters=64,\n",
    "                                            kernel_size=(7, 7),\n",
    "                                            strides=2,\n",
    "                                            padding='same')\n",
    "        self.bn1 = tf.keras.layers.BatchNormalization()\n",
    "        self.pool1 = tf.keras.layers.MaxPool2D(pool_size=(3, 3),\n",
    "                                               strides=2,\n",
    "                                               padding='same')\n",
    "        self.layer1 = make_bottleneck_layer(filter_num=64,\n",
    "                                             blocks=layer_params[0])\n",
    "        self.layer2 = make_bottleneck_layer(filter_num=128,\n",
    "                                             blocks=layer_params[1],\n",
    "                                             stride=2)\n",
    "        self.layer3 = make_bottleneck_layer(filter_num=256,\n",
    "                                             blocks=layer_params[2],\n",
    "                                             stride=2)\n",
    "        self.layer4 = make_bottleneck_layer(filter_num=512,\n",
    "                                             blocks=layer_params[3],\n",
    "                                             stride=2)\n",
    "        self.avgpool = tf.keras.layers.GlobalAveragePooling2D()\n",
    "        self.fc = tf.keras.layers.Dense(\n",
    "            units=num_classes, activation=tf.keras.activations.softmax)\n",
    "\n",
    "    def call(self, inputs, training=None, mask=None):\n",
    "        x = self.conv1(inputs)\n",
    "        x = self.bn1(x, training=training)\n",
    "        x = tf.nn.relu(x)\n",
    "        x = self.pool1(x)\n",
    "        x = self.layer1(x, training=training)\n",
    "        x = self.layer2(x, training=training)\n",
    "        x = self.layer3(x, training=training)\n",
    "        x = self.layer4(x, training=training)\n",
    "        x = self.avgpool(x)\n",
    "        output = self.fc(x)\n",
    "\n",
    "        return output"
   ]
  },
  {
   "cell_type": "code",
   "execution_count": 41,
   "metadata": {
    "ExecuteTime": {
     "end_time": "2020-04-07T02:50:39.112478Z",
     "start_time": "2020-04-07T02:50:39.107721Z"
    }
   },
   "outputs": [],
   "source": [
    "def ResNet_18():\n",
    "    return ResNetTypeI(layer_params=[2, 2, 2, 2])"
   ]
  },
  {
   "cell_type": "code",
   "execution_count": 42,
   "metadata": {
    "ExecuteTime": {
     "end_time": "2020-04-07T02:50:39.460755Z",
     "start_time": "2020-04-07T02:50:39.457355Z"
    }
   },
   "outputs": [],
   "source": [
    "def ResNet_34():\n",
    "    return ResNetTypeI(layer_params=[3, 4, 6, 3])"
   ]
  },
  {
   "cell_type": "code",
   "execution_count": 43,
   "metadata": {
    "ExecuteTime": {
     "end_time": "2020-04-07T02:50:39.772054Z",
     "start_time": "2020-04-07T02:50:39.766042Z"
    }
   },
   "outputs": [],
   "source": [
    "def ResNet_50():\n",
    "    return ResNetTypeII(layer_params=[3, 4, 6, 3])"
   ]
  },
  {
   "cell_type": "code",
   "execution_count": 44,
   "metadata": {
    "ExecuteTime": {
     "end_time": "2020-04-07T02:50:40.214805Z",
     "start_time": "2020-04-07T02:50:40.211651Z"
    }
   },
   "outputs": [],
   "source": [
    "def ResNet_101():\n",
    "    return ResNetTypeII(layer_params=[3, 4, 23, 3])"
   ]
  },
  {
   "cell_type": "code",
   "execution_count": 45,
   "metadata": {
    "ExecuteTime": {
     "end_time": "2020-04-07T02:50:40.568095Z",
     "start_time": "2020-04-07T02:50:40.562039Z"
    }
   },
   "outputs": [],
   "source": [
    "def ResNet_152():\n",
    "    return ResNetTypeII(layer_params=[3, 8, 36, 3])"
   ]
  },
  {
   "cell_type": "code",
   "execution_count": 51,
   "metadata": {
    "ExecuteTime": {
     "end_time": "2020-04-07T02:52:40.700119Z",
     "start_time": "2020-04-07T02:52:40.691616Z"
    }
   },
   "outputs": [],
   "source": [
    "def get_model():\n",
    "    model = ResNet_101()\n",
    "    model.build(input_shape=(None, 224, 224, 3))\n",
    "    model.summary()\n",
    "    return model"
   ]
  },
  {
   "cell_type": "code",
   "execution_count": 52,
   "metadata": {
    "ExecuteTime": {
     "end_time": "2020-04-07T02:52:43.816588Z",
     "start_time": "2020-04-07T02:52:41.388106Z"
    }
   },
   "outputs": [
    {
     "name": "stdout",
     "output_type": "stream",
     "text": [
      "Model: \"res_net_type_ii_7\"\n",
      "_________________________________________________________________\n",
      "Layer (type)                 Output Shape              Param #   \n",
      "=================================================================\n",
      "conv2d_827 (Conv2D)          multiple                  9472      \n",
      "_________________________________________________________________\n",
      "batch_normalization_827 (Bat multiple                  256       \n",
      "_________________________________________________________________\n",
      "max_pooling2d_7 (MaxPooling2 multiple                  0         \n",
      "_________________________________________________________________\n",
      "sequential_231 (Sequential)  multiple                  353664    \n",
      "_________________________________________________________________\n",
      "sequential_235 (Sequential)  multiple                  2024448   \n",
      "_________________________________________________________________\n",
      "sequential_240 (Sequential)  multiple                  49380864  \n",
      "_________________________________________________________________\n",
      "sequential_264 (Sequential)  multiple                  23407616  \n",
      "_________________________________________________________________\n",
      "global_average_pooling2d_6 ( multiple                  0         \n",
      "_________________________________________________________________\n",
      "dense_6 (Dense)              multiple                  2049000   \n",
      "=================================================================\n",
      "Total params: 77,225,320\n",
      "Trainable params: 77,062,632\n",
      "Non-trainable params: 162,688\n",
      "_________________________________________________________________\n"
     ]
    }
   ],
   "source": [
    "model = get_model()"
   ]
  },
  {
   "cell_type": "code",
   "execution_count": null,
   "metadata": {},
   "outputs": [],
   "source": []
  }
 ],
 "metadata": {
  "kernelspec": {
   "display_name": "Python [conda env:tf2]",
   "language": "python",
   "name": "conda-env-tf2-py"
  },
  "language_info": {
   "codemirror_mode": {
    "name": "ipython",
    "version": 3
   },
   "file_extension": ".py",
   "mimetype": "text/x-python",
   "name": "python",
   "nbconvert_exporter": "python",
   "pygments_lexer": "ipython3",
   "version": "3.6.10"
  },
  "nbTranslate": {
   "displayLangs": [
    "*"
   ],
   "hotkey": "alt-t",
   "langInMainMenu": true,
   "sourceLang": "en",
   "targetLang": "fr",
   "useGoogleTranslate": true
  },
  "toc": {
   "base_numbering": 1,
   "nav_menu": {},
   "number_sections": false,
   "sideBar": true,
   "skip_h1_title": true,
   "title_cell": "Table of Contents",
   "title_sidebar": "Contents",
   "toc_cell": false,
   "toc_position": {},
   "toc_section_display": true,
   "toc_window_display": false
  },
  "varInspector": {
   "cols": {
    "lenName": 16,
    "lenType": 16,
    "lenVar": 40
   },
   "kernels_config": {
    "python": {
     "delete_cmd_postfix": "",
     "delete_cmd_prefix": "del ",
     "library": "var_list.py",
     "varRefreshCmd": "print(var_dic_list())"
    },
    "r": {
     "delete_cmd_postfix": ") ",
     "delete_cmd_prefix": "rm(",
     "library": "var_list.r",
     "varRefreshCmd": "cat(var_dic_list()) "
    }
   },
   "types_to_exclude": [
    "module",
    "function",
    "builtin_function_or_method",
    "instance",
    "_Feature"
   ],
   "window_display": false
  }
 },
 "nbformat": 4,
 "nbformat_minor": 4
}
