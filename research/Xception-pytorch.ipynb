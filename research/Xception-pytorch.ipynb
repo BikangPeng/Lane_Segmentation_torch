{
 "cells": [
  {
   "cell_type": "code",
   "execution_count": 7,
   "metadata": {
    "ExecuteTime": {
     "end_time": "2020-04-08T07:12:25.371190Z",
     "start_time": "2020-04-08T07:12:25.368063Z"
    }
   },
   "outputs": [],
   "source": [
    "import math\n",
    "import torch.nn as nn\n",
    "import torch.nn.functional as F\n",
    "import torch.utils.model_zoo as model_zoo\n",
    "from torch.nn import init\n",
    "import torch"
   ]
  },
  {
   "cell_type": "code",
   "execution_count": 2,
   "metadata": {
    "ExecuteTime": {
     "end_time": "2020-04-08T06:38:37.796004Z",
     "start_time": "2020-04-08T06:38:37.791284Z"
    }
   },
   "outputs": [],
   "source": [
    "class SeparableConv2d(nn.Module):\n",
    "    def __init__(self, in_channels, out_channels, k=1, s=1, p=0):\n",
    "        super(SeparableConv2d, self).__init__()\n",
    "\n",
    "        self.depthwise = nn.Conv2d(in_channels,\n",
    "                                   out_channels,\n",
    "                                   k,\n",
    "                                   s,\n",
    "                                   p,\n",
    "                                   groups=in_channels,\n",
    "                                   bias=False)\n",
    "        self.pointwise = nn.Conv2d(in_channels,\n",
    "                                   out_channels,\n",
    "                                   1,\n",
    "                                   1,\n",
    "                                   0,\n",
    "                                   1,\n",
    "                                   1,\n",
    "                                   bias=False)\n",
    "\n",
    "    def forward(self, x):\n",
    "        x = self.depthwise(x)\n",
    "        x = self.pointwise(x)\n",
    "        return x"
   ]
  },
  {
   "cell_type": "code",
   "execution_count": 3,
   "metadata": {
    "ExecuteTime": {
     "end_time": "2020-04-08T06:43:00.877718Z",
     "start_time": "2020-04-08T06:43:00.872986Z"
    }
   },
   "outputs": [],
   "source": [
    "class SepConvBlock(nn.Module):\n",
    "    def __init__(self, in_channels, out_channels, k=1, s=1, p=0):\n",
    "        super(SepConvBlock, self).__init__()\n",
    "        self.relu = nn.ReLU(inplace=True)\n",
    "        self.sepconv = SeparableConv2d(in_channels,\n",
    "                                       out_channels,\n",
    "                                       k=k,\n",
    "                                       s=s,\n",
    "                                       p=p)\n",
    "        self.bn = nn.BatchNorm2d(out_channels)\n",
    "\n",
    "    def forward(self, x):\n",
    "        out = self.bn(self.sepconv(self.relu(x)))\n",
    "        return out"
   ]
  },
  {
   "cell_type": "code",
   "execution_count": 4,
   "metadata": {
    "ExecuteTime": {
     "end_time": "2020-04-08T06:47:52.193733Z",
     "start_time": "2020-04-08T06:47:52.187467Z"
    }
   },
   "outputs": [],
   "source": [
    "class Block(nn.Module):\n",
    "    def __init__(self, channels):\n",
    "        super(Block, self).__init__()\n",
    "        self.sepconv1 = SepConvBlock(channels, channels, k=3, s=1, p=1)\n",
    "        self.sepconv2 = SepConvBlock(channels, channels, k=3, s=1, p=1)\n",
    "        self.sepconv3 = SepConvBlock(channels, channels, k=3, s=1, p=1)\n",
    "\n",
    "    def forward(self, x):\n",
    "        identify = x\n",
    "        x = self.sepconv1(x)\n",
    "        x = self.sepconv2(x)\n",
    "        out = self.sepconv3(x)\n",
    "        out += identify\n",
    "\n",
    "        return out"
   ]
  },
  {
   "cell_type": "code",
   "execution_count": 5,
   "metadata": {
    "ExecuteTime": {
     "end_time": "2020-04-08T06:54:14.443590Z",
     "start_time": "2020-04-08T06:54:14.437551Z"
    }
   },
   "outputs": [],
   "source": [
    "class DownBlock(nn.Module):\n",
    "    def __init__(self, in_channels, out_channels):\n",
    "        super(DownBlock, self).__init__()\n",
    "        self.sepconv1  = SepConvBlock(in_channels, out_channels, k=3, s=1, p=1)\n",
    "        self.sepconv2  = SepConvBlock(in_channels, out_channels, k=3, s=1, p=1)   \n",
    "        self.maxpool = nn.MaxPool2d(3, stride=2, padding=1)\n",
    "        self.skip = nn.Conv2d(in_channels, out_channels, 1, stride=2)\n",
    "        \n",
    "    def forward(self, x):\n",
    "        identify = self.skip(x)\n",
    "        out = self.maxpool(self.sepconv2(self.sepconv1(x)))\n",
    "        out += identify\n",
    "        \n",
    "        return out"
   ]
  },
  {
   "cell_type": "code",
   "execution_count": 8,
   "metadata": {
    "ExecuteTime": {
     "end_time": "2020-04-08T07:13:31.027738Z",
     "start_time": "2020-04-08T07:13:31.009179Z"
    }
   },
   "outputs": [],
   "source": [
    "class Xception(nn.Module):\n",
    "    def __init__(self, num_classes=10):\n",
    "        super(Xception, self).__init__()\n",
    "        self.conv1 = nn.Conv2d(in_channels=3,\n",
    "                               out_channels=32,\n",
    "                               kernel_size=3,\n",
    "                               stride=2,\n",
    "                               padding=0,\n",
    "                               bias=False)\n",
    "        self.bn1 = nn.BatchNorm2d(num_features=32)\n",
    "        self.relu1 = nn.ReLU(inplace=True)\n",
    "\n",
    "        self.conv2 = nn.Conv2d(in_channels=32,\n",
    "                               out_channels=64,\n",
    "                               kernel_size=3,\n",
    "                               padding=1,\n",
    "                               bias=False)\n",
    "        self.bn2 = nn.BatchNorm2d(num_features=64)\n",
    "\n",
    "        self.block1 = DownBlock(64, 128)\n",
    "        self.block2 = DownBlock(128, 256)\n",
    "        self.block3 = DownBlock(256, 728)\n",
    "\n",
    "        self.block4 = Block(728)\n",
    "        self.block5 = Block(728)\n",
    "        self.block6 = Block(728)\n",
    "        self.block7 = Block(728)\n",
    "        self.block8 = Block(728)\n",
    "        self.block9 = Block(728)\n",
    "        self.block10 = Block(728)\n",
    "        self.block11 = Block(728)\n",
    "\n",
    "        self.sepconv12 = SepConvBlock(in_channels=728,\n",
    "                                      out_channels=728,\n",
    "                                      k=3,\n",
    "                                      s=1,\n",
    "                                      p=1)\n",
    "        self.sepconv13 = SepConvBlock(in_channels=728,\n",
    "                                      out_channels=1024,\n",
    "                                      k=3,\n",
    "                                      s=1,\n",
    "                                      p=1)\n",
    "        self.maxpool14 = nn.MaxPool2d(3, stride=2, padding=1)\n",
    "        self.skip15 = nn.Conv2d(in_channels=728,\n",
    "                                out_channels=1024,\n",
    "                                kernel_size=1,\n",
    "                                stride=2)\n",
    "\n",
    "        self.conv16 = SeparableConv2d(in_channels=1024,\n",
    "                                      out_channels=1536,\n",
    "                                      k=3,\n",
    "                                      s=1,\n",
    "                                      p=1)\n",
    "        self.bn16 = nn.BatchNorm2d(1536)\n",
    "        self.relu16 = nn.ReLU(inplace=True)\n",
    "\n",
    "        self.conv17 = SeparableConv2d(in_channels=1536,\n",
    "                                      out_channels=2048,\n",
    "                                      k=3,\n",
    "                                      s=1,\n",
    "                                      p=1)\n",
    "        self.bn17 = nn.BatchNorm2d(2048)\n",
    "        self.relu17 = nn.ReLU(inplace=True)\n",
    "\n",
    "        self.fc = nn.Linear(2048, num_classes)\n",
    "\n",
    "    def forward(self, x):\n",
    "        x = self.relu1(self.bn1(self.conv1(x)))\n",
    "        x = self.bn2(self.conv2(x))\n",
    "\n",
    "        x = self.block1(x)\n",
    "        x = self.block2(x)\n",
    "        x = self.block3(x)\n",
    "\n",
    "        x = self.block4(x)\n",
    "        x = self.block5(x)\n",
    "        x = self.block6(x)\n",
    "        x = self.block7(x)\n",
    "        x = self.block8(x)\n",
    "        x = self.block9(x)\n",
    "        x = self.block10(x)\n",
    "        x = self.block11(x)\n",
    "\n",
    "        out = self.maxpool14(self.sepconv13(self.sepconv12(x)))\n",
    "        skip = self.skip15(x)\n",
    "\n",
    "        x = out + skip\n",
    "        x = self.relu16(self.bn16(self.conv16(x)))\n",
    "        x = self.relu17(self.bn17(self.conv17(x)))\n",
    "\n",
    "        x = F.adaptive_avg_pool2d(x, (1, 1))\n",
    "        x = x.view(x.size(0), -1)\n",
    "        x = self.fc(x)\n",
    "        \n",
    "        return x"
   ]
  }
 ],
 "metadata": {
  "kernelspec": {
   "display_name": "Python [conda env:torch]",
   "language": "python",
   "name": "conda-env-torch-py"
  },
  "language_info": {
   "codemirror_mode": {
    "name": "ipython",
    "version": 3
   },
   "file_extension": ".py",
   "mimetype": "text/x-python",
   "name": "python",
   "nbconvert_exporter": "python",
   "pygments_lexer": "ipython3",
   "version": "3.6.10"
  },
  "nbTranslate": {
   "displayLangs": [
    "*"
   ],
   "hotkey": "alt-t",
   "langInMainMenu": true,
   "sourceLang": "en",
   "targetLang": "fr",
   "useGoogleTranslate": true
  },
  "toc": {
   "base_numbering": 1,
   "nav_menu": {},
   "number_sections": false,
   "sideBar": true,
   "skip_h1_title": true,
   "title_cell": "Table of Contents",
   "title_sidebar": "Contents",
   "toc_cell": false,
   "toc_position": {},
   "toc_section_display": true,
   "toc_window_display": false
  },
  "varInspector": {
   "cols": {
    "lenName": 16,
    "lenType": 16,
    "lenVar": 40
   },
   "kernels_config": {
    "python": {
     "delete_cmd_postfix": "",
     "delete_cmd_prefix": "del ",
     "library": "var_list.py",
     "varRefreshCmd": "print(var_dic_list())"
    },
    "r": {
     "delete_cmd_postfix": ") ",
     "delete_cmd_prefix": "rm(",
     "library": "var_list.r",
     "varRefreshCmd": "cat(var_dic_list()) "
    }
   },
   "types_to_exclude": [
    "module",
    "function",
    "builtin_function_or_method",
    "instance",
    "_Feature"
   ],
   "window_display": false
  }
 },
 "nbformat": 4,
 "nbformat_minor": 4
}
