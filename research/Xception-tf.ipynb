{
 "cells": [
  {
   "cell_type": "code",
   "execution_count": 1,
   "metadata": {
    "ExecuteTime": {
     "end_time": "2020-04-08T08:34:20.950371Z",
     "start_time": "2020-04-08T08:34:19.585344Z"
    }
   },
   "outputs": [],
   "source": [
    "import tensorflow as tf"
   ]
  },
  {
   "cell_type": "code",
   "execution_count": 2,
   "metadata": {
    "ExecuteTime": {
     "end_time": "2020-04-08T08:34:20.960862Z",
     "start_time": "2020-04-08T08:34:20.956025Z"
    }
   },
   "outputs": [],
   "source": [
    "class SeqConvBlock(tf.keras.layers.Layer):\n",
    "    def __init__(self, filter_num, k=1, s=1, p='valid'):\n",
    "        super(SeqConvBlock, self).__init__()\n",
    "        self.seqconv = tf.keras.layers.SeparableConv2D(filters=filter_num,\n",
    "                                                       kernel_size=k,\n",
    "                                                       strides=s,\n",
    "                                                       padding=p)\n",
    "        self.bn = tf.keras.layers.BatchNormalization()\n",
    "\n",
    "    def call(self, inputs, training=None, **kwargs):\n",
    "        x = tf.nn.relu(inputs)\n",
    "        x = self.seqconv(x)\n",
    "        out = self.bn(x, training=training)\n",
    "\n",
    "        return out"
   ]
  },
  {
   "cell_type": "code",
   "execution_count": 3,
   "metadata": {
    "ExecuteTime": {
     "end_time": "2020-04-08T08:34:21.081361Z",
     "start_time": "2020-04-08T08:34:20.965585Z"
    }
   },
   "outputs": [],
   "source": [
    "class Block(tf.keras.layers.Layer):\n",
    "    def __init__(self, filter_num):\n",
    "        super(Block, self).__init__()\n",
    "        self.seqconv1 = SeqConvBlock(filter_num=filter_num, k=3, s=1, p='same')\n",
    "        self.seqconv2 = SeqConvBlock(filter_num=filter_num, k=3, s=1, p='same')\n",
    "        self.seqconv3 = SeqConvBlock(filter_num=filter_num, k=3, s=1, p='same')\n",
    "\n",
    "    def call(self, inputs, training=None, **kwargs):\n",
    "        identify = inputs\n",
    "        x = self.seqconv1(inputs)\n",
    "        x = self.seqconv2(x)\n",
    "        x = self.seqconv3(x)\n",
    "\n",
    "        out = tf.keras.layers.add([identify, x])\n",
    "        return out"
   ]
  },
  {
   "cell_type": "code",
   "execution_count": 4,
   "metadata": {
    "ExecuteTime": {
     "end_time": "2020-04-08T08:34:21.147660Z",
     "start_time": "2020-04-08T08:34:21.096751Z"
    }
   },
   "outputs": [],
   "source": [
    "class DownBlock(tf.keras.layers.Layer):\n",
    "    def __init__(self, filter_num):\n",
    "        super(DownBlock, self).__init__()\n",
    "        self.seqconv1 = SeqConvBlock(filter_num=filter_num, k=3, s=1, p='same')\n",
    "        self.seqconv2 = SeqConvBlock(filter_num=filter_num, k=3, s=1, p='same')\n",
    "        self.maxpool = tf.keras.layers.MaxPool2D(pool_size=(3, 3),\n",
    "                                                 strides=2,\n",
    "                                                 padding='same')\n",
    "        self.skip = tf.keras.layers.Conv2D(filters=filter_num,\n",
    "                                           kernel_size=1,\n",
    "                                           strides=2)\n",
    "\n",
    "    def call(self, inputs, training=None, **kwargs):\n",
    "        identify = self.skip(inputs)\n",
    "        x = self.maxpool(self.seqconv2(self.seqconv1(inputs)))\n",
    "        out = tf.keras.layers.add([identify, x])\n",
    "\n",
    "        return out"
   ]
  },
  {
   "cell_type": "code",
   "execution_count": 9,
   "metadata": {
    "ExecuteTime": {
     "end_time": "2020-04-08T08:35:06.493560Z",
     "start_time": "2020-04-08T08:35:06.461942Z"
    }
   },
   "outputs": [],
   "source": [
    "class Xception(tf.keras.Model):\n",
    "    def __init__(self, num_classes=10):\n",
    "        super(Xception, self).__init__()\n",
    "        self.conv1 = tf.keras.layers.Conv2D(filters=32,\n",
    "                                            kernel_size=3,\n",
    "                                            strides=2)\n",
    "        self.bn1 = tf.keras.layers.BatchNormalization()\n",
    "        self.conv2 = tf.keras.layers.Conv2D(filters=64,\n",
    "                                            kernel_size=3,\n",
    "                                            padding='same')\n",
    "        self.bn2 = tf.keras.layers.BatchNormalization()\n",
    "\n",
    "        self.block1 = DownBlock(128)\n",
    "        self.block2 = DownBlock(256)\n",
    "        self.block3 = DownBlock(728)\n",
    "\n",
    "        self.block4 = Block(728)\n",
    "        self.block5 = Block(728)\n",
    "        self.block6 = Block(728)\n",
    "        self.block7 = Block(728)\n",
    "        self.block8 = Block(728)\n",
    "        self.block9 = Block(728)\n",
    "        self.block10 = Block(728)\n",
    "        self.block11 = Block(728)\n",
    "\n",
    "        self.seqconv12 = SeqConvBlock(filter_num=728, k=3, s=1, p='same')\n",
    "        self.seqconv13 = SeqConvBlock(filter_num=1024, k=3, s=1, p='same')\n",
    "        self.maxpool14 = tf.keras.layers.MaxPool2D(pool_size=(3, 3),\n",
    "                                                   strides=2,\n",
    "                                                   padding='same')\n",
    "        self.skip15 = tf.keras.layers.Conv2D(filters=1024,\n",
    "                                             kernel_size=1,\n",
    "                                             strides=2)\n",
    "\n",
    "        self.conv16 = tf.keras.layers.SeparableConv2D(filters=1536,\n",
    "                                                      kernel_size=3,\n",
    "                                                      strides=1,\n",
    "                                                      padding='same')\n",
    "        self.bn16 = tf.keras.layers.BatchNormalization()\n",
    "\n",
    "        self.conv17 = tf.keras.layers.SeparableConv2D(filters=2048,\n",
    "                                                      kernel_size=3,\n",
    "                                                      strides=1,\n",
    "                                                      padding='same')\n",
    "        self.bn17 = tf.keras.layers.BatchNormalization()\n",
    "\n",
    "        self.avgpool = tf.keras.layers.GlobalAveragePooling2D()\n",
    "        self.fc = tf.keras.layers.Dense(\n",
    "            units=num_classes, activation=tf.keras.activations.softmax)\n",
    "\n",
    "    def call(self, inputs, training=None, mask=None):\n",
    "        x = self.conv1(inputs)\n",
    "        x = self.bn1(x, training=training)\n",
    "        x = tf.nn.relu(x)\n",
    "\n",
    "        x = self.conv2(x)\n",
    "        x = self.bn2(x, training=training)\n",
    "\n",
    "        x = self.block1(x)\n",
    "        x = self.block2(x)\n",
    "        x = self.block3(x)\n",
    "\n",
    "        x = self.block4(x)\n",
    "        x = self.block5(x)\n",
    "        x = self.block6(x)\n",
    "        x = self.block7(x)\n",
    "        x = self.block8(x)\n",
    "        x = self.block9(x)\n",
    "        x = self.block10(x)\n",
    "        x = self.block11(x)\n",
    "\n",
    "        out = self.maxpool14(self.seqconv13(self.seqconv12(x)))\n",
    "        skip = self.skip15(x)\n",
    "        x = tf.keras.layers.add([out, skip])\n",
    "\n",
    "        x = self.conv16(x)\n",
    "        x = self.bn16(x, training=training)\n",
    "        x = tf.nn.relu(x)\n",
    "\n",
    "        x = self.conv17(x)\n",
    "        x = self.bn17(x, training=training)\n",
    "        x = tf.nn.relu(x)\n",
    "\n",
    "        x = self.avgpool(x)\n",
    "\n",
    "        out = self.fc(x)\n",
    "\n",
    "        return out"
   ]
  },
  {
   "cell_type": "code",
   "execution_count": 10,
   "metadata": {
    "ExecuteTime": {
     "end_time": "2020-04-08T08:35:16.954282Z",
     "start_time": "2020-04-08T08:35:16.944955Z"
    }
   },
   "outputs": [],
   "source": [
    "def get_model():\n",
    "    model = Xception()\n",
    "    model.build(input_shape=(None, 299, 299, 3))\n",
    "    model.summary()\n",
    "    return model"
   ]
  },
  {
   "cell_type": "code",
   "execution_count": 11,
   "metadata": {
    "ExecuteTime": {
     "end_time": "2020-04-08T08:35:19.547039Z",
     "start_time": "2020-04-08T08:35:17.757175Z"
    }
   },
   "outputs": [
    {
     "name": "stdout",
     "output_type": "stream",
     "text": [
      "Model: \"xception_1\"\n",
      "_________________________________________________________________\n",
      "Layer (type)                 Output Shape              Param #   \n",
      "=================================================================\n",
      "conv2d_6 (Conv2D)            multiple                  896       \n",
      "_________________________________________________________________\n",
      "batch_normalization_36 (Batc multiple                  128       \n",
      "_________________________________________________________________\n",
      "conv2d_7 (Conv2D)            multiple                  18496     \n",
      "_________________________________________________________________\n",
      "batch_normalization_37 (Batc multiple                  256       \n",
      "_________________________________________________________________\n",
      "down_block_3 (DownBlock)     multiple                  35904     \n",
      "_________________________________________________________________\n",
      "down_block_4 (DownBlock)     multiple                  137344    \n",
      "_________________________________________________________________\n",
      "down_block_5 (DownBlock)     multiple                  919584    \n",
      "_________________________________________________________________\n",
      "block_8 (Block)              multiple                  1620528   \n",
      "_________________________________________________________________\n",
      "block_9 (Block)              multiple                  1620528   \n",
      "_________________________________________________________________\n",
      "block_10 (Block)             multiple                  1620528   \n",
      "_________________________________________________________________\n",
      "block_11 (Block)             multiple                  1620528   \n",
      "_________________________________________________________________\n",
      "block_12 (Block)             multiple                  1620528   \n",
      "_________________________________________________________________\n",
      "block_13 (Block)             multiple                  1620528   \n",
      "_________________________________________________________________\n",
      "block_14 (Block)             multiple                  1620528   \n",
      "_________________________________________________________________\n",
      "block_15 (Block)             multiple                  1620528   \n",
      "_________________________________________________________________\n",
      "seq_conv_block_62 (SeqConvBl multiple                  540176    \n",
      "_________________________________________________________________\n",
      "seq_conv_block_63 (SeqConvBl multiple                  757144    \n",
      "_________________________________________________________________\n",
      "max_pooling2d_7 (MaxPooling2 multiple                  0         \n",
      "_________________________________________________________________\n",
      "conv2d_11 (Conv2D)           multiple                  746496    \n",
      "_________________________________________________________________\n",
      "separable_conv2d_66 (Separab multiple                  1583616   \n",
      "_________________________________________________________________\n",
      "batch_normalization_70 (Batc multiple                  6144      \n",
      "_________________________________________________________________\n",
      "separable_conv2d_67 (Separab multiple                  3161600   \n",
      "_________________________________________________________________\n",
      "batch_normalization_71 (Batc multiple                  8192      \n",
      "_________________________________________________________________\n",
      "global_average_pooling2d_1 ( multiple                  0         \n",
      "_________________________________________________________________\n",
      "dense_1 (Dense)              multiple                  20490     \n",
      "=================================================================\n",
      "Total params: 20,900,690\n",
      "Trainable params: 20,850,434\n",
      "Non-trainable params: 50,256\n",
      "_________________________________________________________________\n"
     ]
    }
   ],
   "source": [
    "model = get_model()"
   ]
  },
  {
   "cell_type": "code",
   "execution_count": null,
   "metadata": {},
   "outputs": [],
   "source": []
  }
 ],
 "metadata": {
  "kernelspec": {
   "display_name": "Python [conda env:tf2]",
   "language": "python",
   "name": "conda-env-tf2-py"
  },
  "language_info": {
   "codemirror_mode": {
    "name": "ipython",
    "version": 3
   },
   "file_extension": ".py",
   "mimetype": "text/x-python",
   "name": "python",
   "nbconvert_exporter": "python",
   "pygments_lexer": "ipython3",
   "version": "3.6.10"
  },
  "nbTranslate": {
   "displayLangs": [
    "*"
   ],
   "hotkey": "alt-t",
   "langInMainMenu": true,
   "sourceLang": "en",
   "targetLang": "fr",
   "useGoogleTranslate": true
  },
  "toc": {
   "base_numbering": 1,
   "nav_menu": {},
   "number_sections": false,
   "sideBar": true,
   "skip_h1_title": true,
   "title_cell": "Table of Contents",
   "title_sidebar": "Contents",
   "toc_cell": false,
   "toc_position": {},
   "toc_section_display": true,
   "toc_window_display": false
  },
  "varInspector": {
   "cols": {
    "lenName": 16,
    "lenType": 16,
    "lenVar": 40
   },
   "kernels_config": {
    "python": {
     "delete_cmd_postfix": "",
     "delete_cmd_prefix": "del ",
     "library": "var_list.py",
     "varRefreshCmd": "print(var_dic_list())"
    },
    "r": {
     "delete_cmd_postfix": ") ",
     "delete_cmd_prefix": "rm(",
     "library": "var_list.r",
     "varRefreshCmd": "cat(var_dic_list()) "
    }
   },
   "types_to_exclude": [
    "module",
    "function",
    "builtin_function_or_method",
    "instance",
    "_Feature"
   ],
   "window_display": false
  }
 },
 "nbformat": 4,
 "nbformat_minor": 4
}
