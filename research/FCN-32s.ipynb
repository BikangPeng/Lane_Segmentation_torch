{
 "cells": [
  {
   "cell_type": "code",
   "execution_count": 1,
   "metadata": {
    "ExecuteTime": {
     "end_time": "2020-03-28T08:00:28.100426Z",
     "start_time": "2020-03-28T08:00:21.498525Z"
    }
   },
   "outputs": [],
   "source": [
    "import torch\n",
    "import math\n",
    "import torch.nn as nn\n",
    "import torch.nn.init as init"
   ]
  },
  {
   "cell_type": "markdown",
   "metadata": {},
   "source": [
    "# 建立block"
   ]
  },
  {
   "cell_type": "code",
   "execution_count": 2,
   "metadata": {
    "ExecuteTime": {
     "end_time": "2020-03-28T08:00:28.125285Z",
     "start_time": "2020-03-28T08:00:28.116709Z"
    }
   },
   "outputs": [],
   "source": [
    "class Block(nn.Module):\n",
    "    def __init__(self, in_ch, out_ch):\n",
    "        super(Block, self).__init__()\n",
    "        self.conv1 = nn.Conv2d(in_ch, out_ch, kernel_size=3, padding=1)\n",
    "        self.bn1 = nn.BatchNorm2d(out_ch)\n",
    "        self.relu1 = nn.ReLU(inplace=True)\n",
    "\n",
    "    def forward(self, x):\n",
    "        out = self.relu1(self.bn1(self.conv1(x)))\n",
    "        return out"
   ]
  },
  {
   "cell_type": "markdown",
   "metadata": {},
   "source": [
    "# 建立layer"
   ]
  },
  {
   "cell_type": "code",
   "execution_count": 3,
   "metadata": {
    "ExecuteTime": {
     "end_time": "2020-03-28T08:00:28.256349Z",
     "start_time": "2020-03-28T08:00:28.135563Z"
    }
   },
   "outputs": [],
   "source": [
    "def make_layers(in_channels, layer_list):\n",
    "    layers = []\n",
    "    for v in layer_list:\n",
    "        layers += [Block(in_channels, v)]\n",
    "        in_channels = v\n",
    "    return nn.Sequential(*layers)\n",
    "\n",
    "\n",
    "class Layer(nn.Module):\n",
    "    def __init__(self, in_channels, layer_list):\n",
    "        super(Layer, self).__init__()\n",
    "        self.layer = make_layers(in_channels, layer_list)\n",
    "\n",
    "    def forward(self, x):\n",
    "        out = self.layer(x)\n",
    "        return out"
   ]
  },
  {
   "cell_type": "markdown",
   "metadata": {},
   "source": [
    "# 建立VGG-19BN--encode模型"
   ]
  },
  {
   "cell_type": "code",
   "execution_count": 4,
   "metadata": {
    "ExecuteTime": {
     "end_time": "2020-03-28T08:00:28.356285Z",
     "start_time": "2020-03-28T08:00:28.288249Z"
    }
   },
   "outputs": [],
   "source": [
    "class VGG(nn.Module):\n",
    "    '''\n",
    "    VGG model \n",
    "    '''\n",
    "    def __init__(self):\n",
    "        super(VGG, self).__init__()\n",
    "        self.layer1 = Layer(3, [64, 64])\n",
    "        self.pool1 = nn.MaxPool2d(kernel_size=2, stride=2)\n",
    "        self.layer2 = Layer(64, [128, 128])\n",
    "        self.pool2 = nn.MaxPool2d(kernel_size=2, stride=2)\n",
    "        self.layer3 = Layer(128, [256, 256, 256, 256])\n",
    "        self.pool3 = nn.MaxPool2d(kernel_size=2, stride=2)\n",
    "        self.layer4 = Layer(256, [512, 512, 512, 512])\n",
    "        self.pool4 = nn.MaxPool2d(kernel_size=2, stride=2)\n",
    "        self.layer5 = Layer(512, [512, 512, 512, 512])\n",
    "        self.pool5 = nn.MaxPool2d(kernel_size=2, stride=2)\n",
    "\n",
    "    def forward(self, x):\n",
    "        f1 = self.pool1(self.layer1(x))\n",
    "        f2 = self.pool2(self.layer2(f1))\n",
    "        f3 = self.pool3(self.layer3(f2))\n",
    "        f4 = self.pool4(self.layer4(f3))\n",
    "        f5 = self.pool5(self.layer5(f4))\n",
    "        return [f3, f4, f5]"
   ]
  },
  {
   "cell_type": "markdown",
   "metadata": {},
   "source": [
    "# 建立上采样模块"
   ]
  },
  {
   "cell_type": "code",
   "execution_count": 5,
   "metadata": {
    "ExecuteTime": {
     "end_time": "2020-03-28T08:00:43.173739Z",
     "start_time": "2020-03-28T08:00:43.169054Z"
    }
   },
   "outputs": [],
   "source": [
    "class FCNDecode(nn.Module):\n",
    "    def __init__(self, n, in_channels, out_channels, upsample_ratio):\n",
    "        super(FCNDecode, self).__init__()\n",
    "        self.conv1 = Layer(in_channels, [out_channels] * n)\n",
    "        self.trans_conv1 = nn.ConvTranspose2d(out_channels,\n",
    "                                              out_channels,\n",
    "                                              upsample_ratio,\n",
    "                                              stride=upsample_ratio)\n",
    "\n",
    "    def forward(self, x):\n",
    "        out = self.trans_conv1(self.conv1(x))\n",
    "        return out"
   ]
  },
  {
   "cell_type": "markdown",
   "metadata": {},
   "source": [
    "# 建立FCN_SEG模型"
   ]
  },
  {
   "cell_type": "code",
   "execution_count": 6,
   "metadata": {
    "ExecuteTime": {
     "end_time": "2020-03-28T08:00:44.349367Z",
     "start_time": "2020-03-28T08:00:44.345283Z"
    }
   },
   "outputs": [],
   "source": [
    "class FCNSeg(nn.Module):\n",
    "    def __init__(self, n, in_channels, out_channels, upsample_ratio):\n",
    "        super(FCNSeg, self).__init__()\n",
    "        self.encode = VGG()\n",
    "        self.decode = FCNDecode(n, in_channels, out_channels, upsample_ratio)\n",
    "        self.classifier = nn.Conv2d(out_channels, 10, 3, padding=1)\n",
    "\n",
    "    def forward(self, x):\n",
    "        feature_list = self.encode(x)\n",
    "        out = self.decode(feature_list[-1])\n",
    "        pro = self.classifier(out)\n",
    "        return pro"
   ]
  },
  {
   "cell_type": "code",
   "execution_count": 7,
   "metadata": {
    "ExecuteTime": {
     "end_time": "2020-03-28T08:00:46.658647Z",
     "start_time": "2020-03-28T08:00:45.362796Z"
    }
   },
   "outputs": [],
   "source": [
    "x = torch.randn((10, 3, 256, 256))\n",
    "model = FCNSeg(4, 512, 256, 32)"
   ]
  },
  {
   "cell_type": "code",
   "execution_count": 8,
   "metadata": {
    "ExecuteTime": {
     "end_time": "2020-03-28T08:00:53.190135Z",
     "start_time": "2020-03-28T08:00:47.652716Z"
    }
   },
   "outputs": [],
   "source": [
    "model.eval()\n",
    "y = model(x)"
   ]
  },
  {
   "cell_type": "code",
   "execution_count": 9,
   "metadata": {
    "ExecuteTime": {
     "end_time": "2020-03-28T08:00:58.865967Z",
     "start_time": "2020-03-28T08:00:58.857365Z"
    }
   },
   "outputs": [
    {
     "data": {
      "text/plain": [
       "torch.Size([10, 10, 256, 256])"
      ]
     },
     "execution_count": 9,
     "metadata": {},
     "output_type": "execute_result"
    }
   ],
   "source": [
    "y.size()"
   ]
  },
  {
   "cell_type": "code",
   "execution_count": null,
   "metadata": {},
   "outputs": [],
   "source": []
  }
 ],
 "metadata": {
  "file_extension": ".py",
  "kernelspec": {
   "display_name": "Python 3.6.10 64-bit ('torch': conda)",
   "language": "python",
   "name": "python361064bittorchconda198bb7683a6c4691b89ba34369f0dd9c"
  },
  "language_info": {
   "codemirror_mode": {
    "name": "ipython",
    "version": 3
   },
   "file_extension": ".py",
   "mimetype": "text/x-python",
   "name": "python",
   "nbconvert_exporter": "python",
   "pygments_lexer": "ipython3",
   "version": "3.6.10"
  },
  "mimetype": "text/x-python",
  "name": "python",
  "npconvert_exporter": "python",
  "pygments_lexer": "ipython3",
  "toc": {
   "base_numbering": 1,
   "nav_menu": {},
   "number_sections": true,
   "sideBar": true,
   "skip_h1_title": false,
   "title_cell": "Table of Contents",
   "title_sidebar": "Contents",
   "toc_cell": false,
   "toc_position": {},
   "toc_section_display": true,
   "toc_window_display": false
  },
  "varInspector": {
   "cols": {
    "lenName": 16,
    "lenType": 16,
    "lenVar": 40
   },
   "kernels_config": {
    "python": {
     "delete_cmd_postfix": "",
     "delete_cmd_prefix": "del ",
     "library": "var_list.py",
     "varRefreshCmd": "print(var_dic_list())"
    },
    "r": {
     "delete_cmd_postfix": ") ",
     "delete_cmd_prefix": "rm(",
     "library": "var_list.r",
     "varRefreshCmd": "cat(var_dic_list()) "
    }
   },
   "types_to_exclude": [
    "module",
    "function",
    "builtin_function_or_method",
    "instance",
    "_Feature"
   ],
   "window_display": false
  },
  "version": 3
 },
 "nbformat": 4,
 "nbformat_minor": 2
}
